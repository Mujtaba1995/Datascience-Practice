{
 "cells": [
  {
   "cell_type": "code",
   "execution_count": 6,
   "metadata": {},
   "outputs": [
    {
     "data": {
      "text/plain": [
       "[('Hey', 'NN'), ('you', 'PRP'), ('are', 'VBP'), ('awesome', 'JJ')]"
      ]
     },
     "execution_count": 6,
     "metadata": {},
     "output_type": "execute_result"
    }
   ],
   "source": [
    "from textblob import TextBlob\n",
    "my_problum = TextBlob(\"Hey!! you are awesome\")\n",
    "#accessing the tags\n",
    "my_problum.tags\n",
    "\n",
    "\n",
    "\n"
   ]
  },
  {
   "cell_type": "code",
   "execution_count": 5,
   "metadata": {},
   "outputs": [
    {
     "data": {
      "text/plain": [
       "WordList(['Hey', 'you', 'are', 'awesome'])"
      ]
     },
     "execution_count": 5,
     "metadata": {},
     "output_type": "execute_result"
    }
   ],
   "source": [
    "#accessing the words\n",
    "my_problum.words"
   ]
  },
  {
   "cell_type": "code",
   "execution_count": 7,
   "metadata": {},
   "outputs": [
    {
     "data": {
      "text/plain": [
       "1.0"
      ]
     },
     "execution_count": 7,
     "metadata": {},
     "output_type": "execute_result"
    }
   ],
   "source": [
    "#accessing the sentiment\n",
    "\n",
    "my_problum.sentiment.polarity"
   ]
  },
  {
   "cell_type": "code",
   "execution_count": 17,
   "metadata": {},
   "outputs": [
    {
     "name": "stdout",
     "output_type": "stream",
     "text": [
      "RT @STMalik_: Do we know that Junaid Jamshed was this close to publicly losing his head because of this vile, violence loving charlatan Ami…\n",
      "Sentiment(polarity=0.3, subjectivity=0.5083333333333333)\n",
      "Do we know that Junaid Jamshed was this close to publicly losing his head because of this vile, violence loving charlatan Amir Liaqat?\n",
      "Sentiment(polarity=0.3, subjectivity=0.5083333333333333)\n",
      "RT @FauziaKasuri: Yes, I miss it all...beautiful..by Shaheed Junaid Jamshed. https://t.co/FzfrkXSxme\n",
      "Sentiment(polarity=0.0, subjectivity=0.0)\n",
      "RT @JunaidJamshedPK: Junaid Jamshed (@junaid_jamshedpk) • Instagram photos and videos\n",
      "https://t.co/N9kPxRkQyf\n",
      "Sentiment(polarity=0.0, subjectivity=0.0)\n",
      "RT @FauziaKasuri: Yes, I miss it all...beautiful..by Shaheed Junaid Jamshed. https://t.co/FzfrkXSxme\n",
      "Sentiment(polarity=0.0, subjectivity=0.0)\n",
      "https://t.co/OXBEcP4IiW https://t.co/OXBEcP4IiW\n",
      "Sentiment(polarity=0.0, subjectivity=0.0)\n",
      "RT @FauziaKasuri: Yes, I miss it all...beautiful..by Shaheed Junaid Jamshed. https://t.co/FzfrkXSxme\n",
      "Sentiment(polarity=0.0, subjectivity=0.0)\n",
      "Junaid Jamshed Spring Collection #2018 Volume 1 For Men https://t.co/8N7C4SsFKF #dresses #menwear #pakistanidresses\n",
      "Sentiment(polarity=0.0, subjectivity=0.0)\n",
      "@Its__HiraKanwal Junaid jamshed\n",
      "Sentiment(polarity=0.0, subjectivity=0.0)\n",
      "RT @FauziaKasuri: Yes, I miss it all...beautiful..by Shaheed Junaid Jamshed. https://t.co/FzfrkXSxme\n",
      "Sentiment(polarity=0.0, subjectivity=0.0)\n",
      "Why did you hit Junaid Jamshed... cause they could\n",
      "Why did they kill Mashaal... cause they could\n",
      "Why those nightmar… https://t.co/PtNfUBRC5f\n",
      "Sentiment(polarity=0.0, subjectivity=0.0)\n",
      "(HD1080p) One of the favourite naat of Junaid Jamshed \"Tamanna e Dil Ras... https://t.co/pLW15CT0w1 via @YouTube\n",
      "Sentiment(polarity=0.0, subjectivity=0.0)\n",
      "I liked a @YouTube video https://t.co/d4y5nCTZIA \"Maula Ya Salli Wa Sallim\" naat by Junaid Jamshed\n",
      "Sentiment(polarity=0.6, subjectivity=0.8)\n",
      "\"Maula Ya Salli Wa Sallim\" naat by Junaid Jamshed https://t.co/dewSCNOa3L via @YouTube\n",
      "Sentiment(polarity=0.0, subjectivity=0.0)\n",
      "RT @RaBta__: \"Mera Dil Badal De\" by. Junaid Jamshed. https://t.co/A7hIK9ihk4\n",
      "Sentiment(polarity=0.0, subjectivity=0.0)\n"
     ]
    }
   ],
   "source": [
    "#Now! lets begin the work\n",
    "import tweepy\n",
    "import textblob\n",
    "\n",
    "consumer_key = 'SmUfsh2o6U47snEvKIKWroyzq'\n",
    "consumer_secret ='Lu8krcbxbJNJsA3kU5n4YeuXoOkEAMpAVpYpIvsZCvcoq7xTyO'\n",
    "\n",
    "access_token ='2682567608-menuGyaYiUsd3tJZmd42poF0mjvgR7wZ926gH6N'\n",
    "access_token_secret= 'JbHmQ0pTp60tN0Jo9iHbkEakw6aby4vs78iyyhgboy2G8'\n",
    "\n",
    "auth = tweepy.OAuthHandler(consumer_key,consumer_secret)\n",
    "auth.set_access_token(access_token,access_token_secret)\n",
    "\n",
    "api = tweepy.API(auth)\n",
    "public_tweets = api.search('junaid jamshed')\n",
    "\n",
    "for tweet in public_tweets:\n",
    "    print(tweet.text)\n",
    "    analysis = TextBlob(tweet.text)\n",
    "    print(analysis.sentiment)\n"
   ]
  },
  {
   "cell_type": "code",
   "execution_count": null,
   "metadata": {
    "collapsed": true
   },
   "outputs": [],
   "source": []
  },
  {
   "cell_type": "code",
   "execution_count": null,
   "metadata": {
    "collapsed": true
   },
   "outputs": [],
   "source": []
  },
  {
   "cell_type": "code",
   "execution_count": null,
   "metadata": {
    "collapsed": true
   },
   "outputs": [],
   "source": []
  },
  {
   "cell_type": "code",
   "execution_count": null,
   "metadata": {
    "collapsed": true
   },
   "outputs": [],
   "source": []
  },
  {
   "cell_type": "code",
   "execution_count": null,
   "metadata": {
    "collapsed": true
   },
   "outputs": [],
   "source": []
  },
  {
   "cell_type": "code",
   "execution_count": null,
   "metadata": {
    "collapsed": true
   },
   "outputs": [],
   "source": []
  },
  {
   "cell_type": "code",
   "execution_count": null,
   "metadata": {
    "collapsed": true
   },
   "outputs": [],
   "source": []
  },
  {
   "cell_type": "code",
   "execution_count": null,
   "metadata": {
    "collapsed": true
   },
   "outputs": [],
   "source": []
  }
 ],
 "metadata": {
  "kernelspec": {
   "display_name": "Python 3",
   "language": "python",
   "name": "python3"
  },
  "language_info": {
   "codemirror_mode": {
    "name": "ipython",
    "version": 3
   },
   "file_extension": ".py",
   "mimetype": "text/x-python",
   "name": "python",
   "nbconvert_exporter": "python",
   "pygments_lexer": "ipython3",
   "version": "3.6.3"
  }
 },
 "nbformat": 4,
 "nbformat_minor": 2
}
